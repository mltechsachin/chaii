{
 "cells": [
  {
   "cell_type": "code",
   "execution_count": 27,
   "id": "median-archives",
   "metadata": {},
   "outputs": [],
   "source": [
    "# This code is written to solve the hindi and Tamil Question - Answer task and will use seperate models to run for each Hindi and Tamil. I am using seq-to-seq  with attension model\n",
    "# to output the answer for the input question in those two given languages\n",
    "import numpy as np\n",
    "import torch\n",
    "import torch.nn.functional as F\n",
    "import torch.optim as optim\n",
    "import torch.nn as nn\n",
    "import pandas as pd\n",
    "import spacy\n",
    "from spacy.lang.hi import Hindi \n",
    "from spacy.lang.ta import Tamil\n",
    "from collections import Counter\n",
    "from tqdm import tqdm_notebook\n",
    "import random\n",
    "import matplotlib.pyplot as plt\n",
    "\n",
    "test = True  \n",
    "\n",
    "if torch.cuda.is_available():\n",
    "    device = torch.device(\"cuda\")\n",
    "else:\n",
    "    device = torch.device(\"cpu\")"
   ]
  },
  {
   "cell_type": "code",
   "execution_count": 28,
   "id": "c805a4a1",
   "metadata": {
    "tags": []
   },
   "outputs": [],
   "source": [
    "#Encoder LSTM \n",
    "class EncoderLSTM(nn.Module):\n",
    "  def __init__(self, input_size, hidden_size, n_layers=1, drop_prob=0):\n",
    "    super(EncoderLSTM, self).__init__()\n",
    "    self.hidden_size = hidden_size\n",
    "    self.n_layers = n_layers\n",
    "\n",
    "    self.embedding = nn.Embedding(input_size, hidden_size)\n",
    "    self.lstm = nn.LSTM(hidden_size, hidden_size, n_layers, dropout=drop_prob, batch_first=True)\n",
    "\n",
    "  def forward(self, inputs, hidden):\n",
    "    # Embed input words\n",
    "    embedded = self.embedding(inputs)\n",
    "    # Pass the embedded word vectors into LSTM and return all outputs\n",
    "    output, hidden = self.lstm(embedded, hidden)\n",
    "    return output, hidden\n",
    "\n",
    "  def init_hidden(self, batch_size=1):\n",
    "    return (torch.zeros(self.n_layers, batch_size, self.hidden_size, device=device),\n",
    "            torch.zeros(self.n_layers, batch_size, self.hidden_size, device=device))"
   ]
  },
  {
   "cell_type": "code",
   "execution_count": 29,
   "id": "251eb618",
   "metadata": {},
   "outputs": [],
   "source": [
    "class BahdanauDecoder(nn.Module):\n",
    "  def __init__(self, hidden_size, output_size, n_layers=1, drop_prob=0.1):\n",
    "    super(BahdanauDecoder, self).__init__()\n",
    "    self.hidden_size = hidden_size\n",
    "    self.output_size = output_size\n",
    "    self.n_layers = n_layers\n",
    "    self.drop_prob = drop_prob\n",
    "\n",
    "    self.embedding = nn.Embedding(self.output_size, self.hidden_size)\n",
    "    \n",
    "    self.fc_hidden = nn.Linear(self.hidden_size, self.hidden_size, bias=False)\n",
    "    self.fc_encoder = nn.Linear(self.hidden_size, self.hidden_size, bias=False)\n",
    "    self.weight = nn.Parameter(torch.FloatTensor(1, hidden_size))\n",
    "    self.attn_combine = nn.Linear(self.hidden_size * 2, self.hidden_size)\n",
    "    self.dropout = nn.Dropout(self.drop_prob)\n",
    "    self.lstm = nn.LSTM(self.hidden_size*2, self.hidden_size, batch_first=True)\n",
    "    self.classifier = nn.Linear(self.hidden_size, self.output_size)\n",
    "\n",
    "  def forward(self, inputs, hidden, encoder_outputs):\n",
    "    encoder_outputs = encoder_outputs.squeeze()\n",
    "    # Embed input words\n",
    "    embedded = self.embedding(inputs).view(1, -1)\n",
    "    embedded = self.dropout(embedded)\n",
    "\n",
    "    # Calculating Alignment Scores\n",
    "    x = torch.tanh(self.fc_hidden(hidden[0])+self.fc_encoder(encoder_outputs))\n",
    "    alignment_scores = x.bmm(self.weight.unsqueeze(2))  \n",
    "    \n",
    "    # Softmaxing alignment scores to get Attention weights\n",
    "    attn_weights = F.softmax(alignment_scores.view(1,-1), dim=1)\n",
    "    \n",
    "    # Multiplying the Attention weights with encoder outputs to get the context vector\n",
    "    context_vector = torch.bmm(attn_weights.unsqueeze(0),\n",
    "                             encoder_outputs.unsqueeze(0))\n",
    "    \n",
    "    # Concatenating context vector with embedded input word\n",
    "    output = torch.cat((embedded, context_vector[0]), 1).unsqueeze(0)\n",
    "    # Passing the concatenated vector as input to the LSTM cell\n",
    "    output, hidden = self.lstm(output, hidden)\n",
    "    # Passing the LSTM output through a Linear layer acting as a classifier\n",
    "    output = F.log_softmax(self.classifier(output[0]), dim=1)\n",
    "    #print(output)\n",
    "    #        import sys; sys.exit()\n",
    "    return output, hidden, attn_weights"
   ]
  },
  {
   "cell_type": "code",
   "execution_count": 74,
   "id": "d874610f",
   "metadata": {
    "collapsed": true,
    "jupyter": {
     "outputs_hidden": true
    },
    "scrolled": true,
    "tags": []
   },
   "outputs": [
    {
     "name": "stderr",
     "output_type": "stream",
     "text": [
      "<ipython-input-74-327c122c6a3c>:17: TqdmDeprecationWarning: This function will be removed in tqdm==5.0.0\n",
      "Please use `tqdm.notebook.tqdm` instead of `tqdm.tqdm_notebook`\n",
      "  for i in tqdm_notebook(range(training_examples_hi)):\n"
     ]
    },
    {
     "data": {
      "application/vnd.jupyter.widget-view+json": {
       "model_id": "0ffc1571ec744aa090d42192452b1ef4",
       "version_major": 2,
       "version_minor": 0
      },
      "text/plain": [
       "  0%|          | 0/746 [00:00<?, ?it/s]"
      ]
     },
     "metadata": {},
     "output_type": "display_data"
    },
    {
     "name": "stderr",
     "output_type": "stream",
     "text": [
      "<ipython-input-74-327c122c6a3c>:48: TqdmDeprecationWarning: This function will be removed in tqdm==5.0.0\n",
      "Please use `tqdm.notebook.tqdm` instead of `tqdm.tqdm_notebook`\n",
      "  for i in tqdm_notebook(range(training_examples_ta)):\n"
     ]
    },
    {
     "data": {
      "application/vnd.jupyter.widget-view+json": {
       "model_id": "be98e0572bfd436aae3505beed9540e0",
       "version_major": 2,
       "version_minor": 0
      },
      "text/plain": [
       "  0%|          | 0/368 [00:00<?, ?it/s]"
      ]
     },
     "metadata": {},
     "output_type": "display_data"
    },
    {
     "name": "stderr",
     "output_type": "stream",
     "text": [
      "<ipython-input-74-327c122c6a3c>:89: TqdmDeprecationWarning: This function will be removed in tqdm==5.0.0\n",
      "Please use `tqdm.notebook.tqdm` instead of `tqdm.tqdm_notebook`\n",
      "  for i in tqdm_notebook(range(test_examples_hi)):\n"
     ]
    },
    {
     "data": {
      "application/vnd.jupyter.widget-view+json": {
       "model_id": "0ac2d356921e4b62b74e077c8c8b7511",
       "version_major": 2,
       "version_minor": 0
      },
      "text/plain": [
       "  0%|          | 0/3 [00:00<?, ?it/s]"
      ]
     },
     "metadata": {},
     "output_type": "display_data"
    },
    {
     "name": "stderr",
     "output_type": "stream",
     "text": [
      "<ipython-input-74-327c122c6a3c>:93: TqdmDeprecationWarning: This function will be removed in tqdm==5.0.0\n",
      "Please use `tqdm.notebook.tqdm` instead of `tqdm.tqdm_notebook`\n",
      "  for i in tqdm_notebook(range(test_examples_ta)):\n"
     ]
    },
    {
     "data": {
      "application/vnd.jupyter.widget-view+json": {
       "model_id": "18e5b1db428a4429b092bd24a589c6d5",
       "version_major": 2,
       "version_minor": 0
      },
      "text/plain": [
       "  0%|          | 0/2 [00:00<?, ?it/s]"
      ]
     },
     "metadata": {},
     "output_type": "display_data"
    }
   ],
   "source": [
    "data = pd.read_csv('train.csv')\n",
    "questions = data['question']\n",
    "answers = data['answer_text']\n",
    "#Setting the number of training sentences we'll use\n",
    "#training_examples = len(questions)\n",
    "training_examples_hi = len(questions.loc[data['language']=='hindi'])\n",
    "training_examples_ta = len(questions.loc[data['language']=='tamil'])\n",
    "\n",
    "spacy_hi = Hindi()\n",
    "spacy_ta = Tamil()\n",
    "words_hi = Counter()\n",
    "words_ta = Counter()\n",
    "\n",
    "\n",
    "qu_inputs = []\n",
    "an_inputs = []\n",
    "for i in tqdm_notebook(range(training_examples_hi)):\n",
    "    qu_tokens_hi = spacy_hi(questions.loc[data['language']=='hindi'].iloc[i])\n",
    "    an_tokens_hi = spacy_hi(answers.loc[data['language']=='hindi'].iloc[i])\n",
    "    if len(qu_tokens_hi)==0 or len(an_tokens_hi)==0:\n",
    "        continue\n",
    "    for qu_token in qu_tokens_hi:\n",
    "        words_hi.update([qu_token.text])\n",
    "    for an_token in an_tokens_hi:\n",
    "        words_hi.update([an_token.text])\n",
    "    qu_inputs.append([token.text for token in qu_tokens_hi] + ['_EOS'])\n",
    "    an_inputs.append([token.text for token in an_tokens_hi] + ['_EOS'])\n",
    "\n",
    "#Writing this part for hindi and tamil questions and answers of train set\n",
    "words_hi_vocab = ['_SOS','_EOS','_UNK'] + sorted(words_hi,key=words_hi.get,reverse=True)\n",
    "hi_w2i = {o:i for i,o in enumerate(words_hi_vocab)}\n",
    "hi_i2w = {i:o for i,o in enumerate(words_hi_vocab)}\n",
    "\n",
    "#Converting only Hindi sentences to their token indexes\n",
    "qu_inputs_hi = []\n",
    "an_inputs_hi = []\n",
    "#print(words_hi_vocab)\n",
    "for i in range(len(qu_inputs)):\n",
    "    qu_sentence = qu_inputs[i]\n",
    "    an_sentence = an_inputs[i]\n",
    "    qu_inputs_hi.append([hi_w2i[word] for word in qu_sentence])\n",
    "    an_inputs_hi.append([hi_w2i[word] for word in an_sentence])\n",
    "                        \n",
    "                        \n",
    "qu_inputs = []\n",
    "an_inputs = []\n",
    "#Similarly tokenizing tamil quentions and answers\n",
    "for i in tqdm_notebook(range(training_examples_ta)):\n",
    "    qu_tokens_ta = spacy_ta(questions.loc[data['language']=='tamil'].iloc[i])\n",
    "    an_tokens_ta = spacy_ta(answers.loc[data['language']=='tamil'].iloc[i])\n",
    "    if len(qu_tokens_ta)==0 or len(an_tokens_ta)==0:\n",
    "        continue\n",
    "    for qu_token in qu_tokens_ta:\n",
    "        words_ta.update([qu_token.text])\n",
    "    for an_token in an_tokens_ta:\n",
    "        words_ta.update([an_token.text])\n",
    "    qu_inputs.append([token.text for token in qu_tokens_ta] + ['_EOS'])\n",
    "    an_inputs.append([token.text for token in an_tokens_ta] + ['_EOS'])\n",
    "    \n",
    "    \n",
    "words_ta_vocab = ['_SOS','_EOS','_UNK'] + sorted(words_ta,key=words_ta.get,reverse=True)\n",
    "ta_w2i = {o:i for i,o in enumerate(words_ta_vocab)}\n",
    "ta_i2w = {i:o for i,o in enumerate(words_ta_vocab)}\n",
    "  \n",
    "#Converting only Tamil sentences to their token indexes\n",
    "qu_inputs_ta = []\n",
    "an_inputs_ta = []\n",
    "#print(words_hi_vocab)\n",
    "for i in range(len(qu_inputs)):\n",
    "    qu_sentence = qu_inputs[i]\n",
    "    an_sentence = an_inputs[i]\n",
    "    qu_inputs_ta.append([ta_w2i[word] for word in qu_sentence])\n",
    "    an_inputs_ta.append([ta_w2i[word] for word in an_sentence])\n",
    "    \n",
    "\n",
    "\n",
    "#for test set\n",
    "#qu_inputs\n",
    "if test == True:\n",
    "    qu_inputs_test_hi = []\n",
    "    qu_inputs_test_ta = []\n",
    "    data_test = pd.read_csv('test.csv')\n",
    "    questions_test = data_test['question']\n",
    "    #for test examples\n",
    "    test_examples_hi = len(questions_test.loc[data_test['language']=='hindi'])\n",
    "    test_examples_ta = len(questions_test.loc[data_test['language']=='tamil'])\n",
    "    qu_inputs_hi_temp = []\n",
    "    qu_inputs_ta_temp = []\n",
    "    for i in tqdm_notebook(range(test_examples_hi)):\n",
    "        qu_tokens_hi_test = spacy_hi(questions_test.loc[data_test['language']=='hindi'].iloc[i])\n",
    "        qu_inputs_hi_temp.append([token.text for token in qu_tokens_hi_test] + ['_EOS'])\n",
    "    #Similarly tokenizing tamil quentions\n",
    "    for i in tqdm_notebook(range(test_examples_ta)):\n",
    "        qu_tokens_ta_test = spacy_hi(questions_test.loc[data_test['language']=='tamil'].iloc[i])\n",
    "        qu_inputs_ta_temp.append([token.text for token in qu_tokens_ta_test] + ['_EOS'])\n",
    "    #writing indexes for Hindi and tamil test questions\n",
    "    for i in range(len(qu_inputs_hi_temp)):\n",
    "        qu_sentence = qu_inputs_hi_temp[i]\n",
    "        qu_inputs_test_hi.append([hi_w2i[word] if words_hi[word] else hi_w2i['_UNK'] for word in qu_sentence])\n",
    "    for i in range(len(qu_inputs_ta_temp)):\n",
    "        qu_sentence = qu_inputs_ta_temp[i]\n",
    "        qu_inputs_test_ta.append([ta_w2i[word] if words_ta[word] else ta_w2i['_UNK'] for word in qu_sentence])\n",
    "    #For submission of test results on Kaggle\n",
    "    sub = pd.read_csv('sample_submission.csv')\n",
    "    pred_id_hi = data_test['id'].loc[data_test['language'] == 'hindi'].reset_index()\n",
    "    pred_id_ta = data_test['id'].loc[data_test['language'] == 'tamil'].reset_index()"
   ]
  },
  {
   "cell_type": "code",
   "execution_count": 31,
   "id": "0fc31ba1",
   "metadata": {
    "collapsed": true,
    "jupyter": {
     "outputs_hidden": true
    },
    "tags": []
   },
   "outputs": [
    {
     "name": "stderr",
     "output_type": "stream",
     "text": [
      "<ipython-input-31-c9728a052c09>:14: TqdmDeprecationWarning: This function will be removed in tqdm==5.0.0\n",
      "Please use `tqdm.notebook.tqdm` instead of `tqdm.tqdm_notebook`\n",
      "  tk0 = tqdm_notebook(range(1,EPOCHS+1),total=EPOCHS)\n"
     ]
    },
    {
     "data": {
      "application/vnd.jupyter.widget-view+json": {
       "model_id": "204435e77a934a17b8b0d691c0634f94",
       "version_major": 2,
       "version_minor": 0
      },
      "text/plain": [
       "  0%|          | 0/10 [00:00<?, ?it/s]"
      ]
     },
     "metadata": {},
     "output_type": "display_data"
    },
    {
     "name": "stderr",
     "output_type": "stream",
     "text": [
      "<ipython-input-31-c9728a052c09>:17: TqdmDeprecationWarning: This function will be removed in tqdm==5.0.0\n",
      "Please use `tqdm.notebook.tqdm` instead of `tqdm.tqdm_notebook`\n",
      "  tk1 = tqdm_notebook(enumerate(qu_inputs_hi[0:len(qu_inputs_hi)-1]),total=len(qu_inputs_hi)-1,leave=False)\n"
     ]
    },
    {
     "data": {
      "application/vnd.jupyter.widget-view+json": {
       "model_id": "",
       "version_major": 2,
       "version_minor": 0
      },
      "text/plain": [
       "  0%|          | 0/745 [00:00<?, ?it/s]"
      ]
     },
     "metadata": {},
     "output_type": "display_data"
    },
    {
     "data": {
      "application/vnd.jupyter.widget-view+json": {
       "model_id": "",
       "version_major": 2,
       "version_minor": 0
      },
      "text/plain": [
       "  0%|          | 0/745 [00:00<?, ?it/s]"
      ]
     },
     "metadata": {},
     "output_type": "display_data"
    },
    {
     "data": {
      "application/vnd.jupyter.widget-view+json": {
       "model_id": "",
       "version_major": 2,
       "version_minor": 0
      },
      "text/plain": [
       "  0%|          | 0/745 [00:00<?, ?it/s]"
      ]
     },
     "metadata": {},
     "output_type": "display_data"
    },
    {
     "data": {
      "application/vnd.jupyter.widget-view+json": {
       "model_id": "",
       "version_major": 2,
       "version_minor": 0
      },
      "text/plain": [
       "  0%|          | 0/745 [00:00<?, ?it/s]"
      ]
     },
     "metadata": {},
     "output_type": "display_data"
    },
    {
     "data": {
      "application/vnd.jupyter.widget-view+json": {
       "model_id": "",
       "version_major": 2,
       "version_minor": 0
      },
      "text/plain": [
       "  0%|          | 0/745 [00:00<?, ?it/s]"
      ]
     },
     "metadata": {},
     "output_type": "display_data"
    },
    {
     "data": {
      "application/vnd.jupyter.widget-view+json": {
       "model_id": "",
       "version_major": 2,
       "version_minor": 0
      },
      "text/plain": [
       "  0%|          | 0/745 [00:00<?, ?it/s]"
      ]
     },
     "metadata": {},
     "output_type": "display_data"
    },
    {
     "data": {
      "application/vnd.jupyter.widget-view+json": {
       "model_id": "",
       "version_major": 2,
       "version_minor": 0
      },
      "text/plain": [
       "  0%|          | 0/745 [00:00<?, ?it/s]"
      ]
     },
     "metadata": {},
     "output_type": "display_data"
    },
    {
     "data": {
      "application/vnd.jupyter.widget-view+json": {
       "model_id": "",
       "version_major": 2,
       "version_minor": 0
      },
      "text/plain": [
       "  0%|          | 0/745 [00:00<?, ?it/s]"
      ]
     },
     "metadata": {},
     "output_type": "display_data"
    },
    {
     "data": {
      "application/vnd.jupyter.widget-view+json": {
       "model_id": "",
       "version_major": 2,
       "version_minor": 0
      },
      "text/plain": [
       "  0%|          | 0/745 [00:00<?, ?it/s]"
      ]
     },
     "metadata": {},
     "output_type": "display_data"
    },
    {
     "data": {
      "application/vnd.jupyter.widget-view+json": {
       "model_id": "",
       "version_major": 2,
       "version_minor": 0
      },
      "text/plain": [
       "  0%|          | 0/745 [00:00<?, ?it/s]"
      ]
     },
     "metadata": {},
     "output_type": "display_data"
    }
   ],
   "source": [
    "#Writing for hindi training model and then testing\n",
    "hidden_size = 256\n",
    "encoder = EncoderLSTM(len(words_hi), hidden_size).to(device)\n",
    "#attn = Attention(hidden_size,\"concat\")\n",
    "#decoder = LuongDecoder(hidden_size,len(words_hi),attn).to(device)\n",
    "decoder = BahdanauDecoder(hidden_size,len(words_hi)).to(device)\n",
    "lr = 0.001\n",
    "encoder_optimizer = optim.Adam(encoder.parameters(), lr=lr)\n",
    "decoder_optimizer = optim.Adam(decoder.parameters(), lr=lr)\n",
    "EPOCHS = 10\n",
    "teacher_forcing_prob = 0.5\n",
    "encoder.train()\n",
    "decoder.train()\n",
    "tk0 = tqdm_notebook(range(1,EPOCHS+1),total=EPOCHS)\n",
    "for epoch in tk0:\n",
    "    avg_loss = 0.\n",
    "    tk1 = tqdm_notebook(enumerate(qu_inputs_hi[0:len(qu_inputs_hi)-1]),total=len(qu_inputs_hi)-1,leave=False)\n",
    "    for i, sentence in tk1:\n",
    "        loss = 0.\n",
    "        h = encoder.init_hidden()\n",
    "        encoder_optimizer.zero_grad()\n",
    "        decoder_optimizer.zero_grad()\n",
    "        #print(sentence)\n",
    "        inp = torch.tensor(sentence).unsqueeze(0).to(device)\n",
    "        encoder_outputs, h = encoder(inp,h)\n",
    "        #print(encoder_outputs)\n",
    "        #First decoder input will be the SOS token\n",
    "        decoder_input = torch.tensor([hi_w2i['_SOS']],device=device)\n",
    "        #First decoder hidden state will be last encoder hidden state\n",
    "        decoder_hidden = h\n",
    "        output = []\n",
    "        teacher_forcing = True if random.random() < teacher_forcing_prob else False\n",
    "        \n",
    "        for ii in range(len(an_inputs_hi[i])):\n",
    "            decoder_output, decoder_hidden, attn_weights = decoder(decoder_input, decoder_hidden, encoder_outputs)\n",
    "            #Get the index value of the word with the highest score from the decoder output\n",
    "            #print(decoder_output)\n",
    "            top_value, top_index = decoder_output.topk(1)\n",
    "            if teacher_forcing:\n",
    "                decoder_input = torch.tensor([an_inputs_hi[i][ii]],device=device)\n",
    "            else:\n",
    "                decoder_input = torch.tensor([top_index.item()],device=device)\n",
    "            output.append(top_index.item())\n",
    "            #Calculate the loss of ?the prediction against the actual word\n",
    "            loss += F.nll_loss(decoder_output.view(1,-1), torch.tensor([an_inputs_hi[i][ii]],device=device))\n",
    "            #print(loss)\n",
    "            #import sys; sys.exit()\n",
    "        loss = loss/len(an_inputs_hi[i])\n",
    "        loss.backward()\n",
    "        encoder_optimizer.step()\n",
    "        decoder_optimizer.step()\n",
    "        avg_loss += loss.item()/len(qu_inputs_hi)\n",
    "    tk0.set_postfix(loss=avg_loss)\n",
    "    #Save model after every epoch (Optional)\n",
    "    torch.save({\"encoder\":encoder.state_dict(),\"decoder\":decoder.state_dict(),\"e_optimizer\":encoder_optimizer.state_dict(),\"d_optimizer\":decoder_optimizer},\"./model.pt\")"
   ]
  },
  {
   "cell_type": "code",
   "execution_count": 78,
   "id": "71d722a3-79db-41f2-9d7c-e319364e1150",
   "metadata": {
    "collapsed": true,
    "jupyter": {
     "outputs_hidden": true
    },
    "tags": []
   },
   "outputs": [
    {
     "name": "stdout",
     "output_type": "stream",
     "text": [
      "Hindi: _UNK _UNK की माँ का नाम क्या है _UNK\n",
      "Answer Predicted: \"\n",
      "Hindi: _UNK _UNK कब लॉन्च किया गया था ? _UNK\n",
      "Answer Predicted: 15 दिसम्बर\n",
      "Hindi: गुस्ताव _UNK का जन्म कब हुआ था ? _UNK\n",
      "Answer Predicted: 15 अप्रैल 1469\n"
     ]
    },
    {
     "name": "stderr",
     "output_type": "stream",
     "text": [
      "<ipython-input-78-2635531f4115>:35: UserWarning: FixedFormatter should only be used together with FixedLocator\n",
      "  ax.set_xticklabels(['']+[hi_i2w[x] for x in qu_inputs_test_hi[i]])\n",
      "<ipython-input-78-2635531f4115>:36: UserWarning: FixedFormatter should only be used together with FixedLocator\n",
      "  ax.set_yticklabels(['']+[hi_i2w[x] for x in output])\n"
     ]
    },
    {
     "ename": "NameError",
     "evalue": "name 'ticker' is not defined",
     "output_type": "error",
     "traceback": [
      "\u001b[0;31m---------------------------------------------------------------------------\u001b[0m",
      "\u001b[0;31mNameError\u001b[0m                                 Traceback (most recent call last)",
      "\u001b[0;32m<ipython-input-78-2635531f4115>\u001b[0m in \u001b[0;36m<module>\u001b[0;34m\u001b[0m\n\u001b[1;32m     35\u001b[0m     \u001b[0max\u001b[0m\u001b[0;34m.\u001b[0m\u001b[0mset_xticklabels\u001b[0m\u001b[0;34m(\u001b[0m\u001b[0;34m[\u001b[0m\u001b[0;34m''\u001b[0m\u001b[0;34m]\u001b[0m\u001b[0;34m+\u001b[0m\u001b[0;34m[\u001b[0m\u001b[0mhi_i2w\u001b[0m\u001b[0;34m[\u001b[0m\u001b[0mx\u001b[0m\u001b[0;34m]\u001b[0m \u001b[0;32mfor\u001b[0m \u001b[0mx\u001b[0m \u001b[0;32min\u001b[0m \u001b[0mqu_inputs_test_hi\u001b[0m\u001b[0;34m[\u001b[0m\u001b[0mi\u001b[0m\u001b[0;34m]\u001b[0m\u001b[0;34m]\u001b[0m\u001b[0;34m)\u001b[0m\u001b[0;34m\u001b[0m\u001b[0;34m\u001b[0m\u001b[0m\n\u001b[1;32m     36\u001b[0m     \u001b[0max\u001b[0m\u001b[0;34m.\u001b[0m\u001b[0mset_yticklabels\u001b[0m\u001b[0;34m(\u001b[0m\u001b[0;34m[\u001b[0m\u001b[0;34m''\u001b[0m\u001b[0;34m]\u001b[0m\u001b[0;34m+\u001b[0m\u001b[0;34m[\u001b[0m\u001b[0mhi_i2w\u001b[0m\u001b[0;34m[\u001b[0m\u001b[0mx\u001b[0m\u001b[0;34m]\u001b[0m \u001b[0;32mfor\u001b[0m \u001b[0mx\u001b[0m \u001b[0;32min\u001b[0m \u001b[0moutput\u001b[0m\u001b[0;34m]\u001b[0m\u001b[0;34m)\u001b[0m\u001b[0;34m\u001b[0m\u001b[0;34m\u001b[0m\u001b[0m\n\u001b[0;32m---> 37\u001b[0;31m     \u001b[0max\u001b[0m\u001b[0;34m.\u001b[0m\u001b[0mxaxis\u001b[0m\u001b[0;34m.\u001b[0m\u001b[0mset_major_locator\u001b[0m\u001b[0;34m(\u001b[0m\u001b[0mticker\u001b[0m\u001b[0;34m.\u001b[0m\u001b[0mMultipleLocator\u001b[0m\u001b[0;34m(\u001b[0m\u001b[0;36m1\u001b[0m\u001b[0;34m)\u001b[0m\u001b[0;34m)\u001b[0m\u001b[0;34m\u001b[0m\u001b[0;34m\u001b[0m\u001b[0m\n\u001b[0m\u001b[1;32m     38\u001b[0m     \u001b[0max\u001b[0m\u001b[0;34m.\u001b[0m\u001b[0myaxis\u001b[0m\u001b[0;34m.\u001b[0m\u001b[0mset_major_locator\u001b[0m\u001b[0;34m(\u001b[0m\u001b[0mticker\u001b[0m\u001b[0;34m.\u001b[0m\u001b[0mMultipleLocator\u001b[0m\u001b[0;34m(\u001b[0m\u001b[0;36m1\u001b[0m\u001b[0;34m)\u001b[0m\u001b[0;34m)\u001b[0m\u001b[0;34m\u001b[0m\u001b[0;34m\u001b[0m\u001b[0m\n\u001b[1;32m     39\u001b[0m     \u001b[0mplt\u001b[0m\u001b[0;34m.\u001b[0m\u001b[0mshow\u001b[0m\u001b[0;34m(\u001b[0m\u001b[0;34m)\u001b[0m\u001b[0;34m\u001b[0m\u001b[0;34m\u001b[0m\u001b[0m\n",
      "\u001b[0;31mNameError\u001b[0m: name 'ticker' is not defined"
     ]
    },
    {
     "name": "stderr",
     "output_type": "stream",
     "text": [
      "/usr/local/lib/python3.8/dist-packages/matplotlib/backends/backend_agg.py:238: RuntimeWarning: Glyph 2327 missing from current font.\n",
      "  font.set_text(s, 0.0, flags=flags)\n",
      "/usr/local/lib/python3.8/dist-packages/matplotlib/backends/backend_agg.py:238: RuntimeWarning: Glyph 2369 missing from current font.\n",
      "  font.set_text(s, 0.0, flags=flags)\n",
      "/usr/local/lib/python3.8/dist-packages/matplotlib/backends/backend_agg.py:238: RuntimeWarning: Glyph 2360 missing from current font.\n",
      "  font.set_text(s, 0.0, flags=flags)\n",
      "/usr/local/lib/python3.8/dist-packages/matplotlib/backends/backend_agg.py:238: RuntimeWarning: Glyph 2381 missing from current font.\n",
      "  font.set_text(s, 0.0, flags=flags)\n",
      "/usr/local/lib/python3.8/dist-packages/matplotlib/backends/backend_agg.py:238: RuntimeWarning: Glyph 2340 missing from current font.\n",
      "  font.set_text(s, 0.0, flags=flags)\n",
      "/usr/local/lib/python3.8/dist-packages/matplotlib/backends/backend_agg.py:238: RuntimeWarning: Glyph 2366 missing from current font.\n",
      "  font.set_text(s, 0.0, flags=flags)\n",
      "/usr/local/lib/python3.8/dist-packages/matplotlib/backends/backend_agg.py:238: RuntimeWarning: Glyph 2357 missing from current font.\n",
      "  font.set_text(s, 0.0, flags=flags)\n",
      "/usr/local/lib/python3.8/dist-packages/matplotlib/backends/backend_agg.py:238: RuntimeWarning: Glyph 2325 missing from current font.\n",
      "  font.set_text(s, 0.0, flags=flags)\n",
      "/usr/local/lib/python3.8/dist-packages/matplotlib/backends/backend_agg.py:238: RuntimeWarning: Glyph 2332 missing from current font.\n",
      "  font.set_text(s, 0.0, flags=flags)\n",
      "/usr/local/lib/python3.8/dist-packages/matplotlib/backends/backend_agg.py:238: RuntimeWarning: Glyph 2344 missing from current font.\n",
      "  font.set_text(s, 0.0, flags=flags)\n",
      "/usr/local/lib/python3.8/dist-packages/matplotlib/backends/backend_agg.py:238: RuntimeWarning: Glyph 2350 missing from current font.\n",
      "  font.set_text(s, 0.0, flags=flags)\n",
      "/usr/local/lib/python3.8/dist-packages/matplotlib/backends/backend_agg.py:238: RuntimeWarning: Glyph 2348 missing from current font.\n",
      "  font.set_text(s, 0.0, flags=flags)\n",
      "/usr/local/lib/python3.8/dist-packages/matplotlib/backends/backend_agg.py:238: RuntimeWarning: Glyph 2361 missing from current font.\n",
      "  font.set_text(s, 0.0, flags=flags)\n",
      "/usr/local/lib/python3.8/dist-packages/matplotlib/backends/backend_agg.py:238: RuntimeWarning: Glyph 2310 missing from current font.\n",
      "  font.set_text(s, 0.0, flags=flags)\n",
      "/usr/local/lib/python3.8/dist-packages/matplotlib/backends/backend_agg.py:238: RuntimeWarning: Glyph 2341 missing from current font.\n",
      "  font.set_text(s, 0.0, flags=flags)\n",
      "/usr/local/lib/python3.8/dist-packages/matplotlib/backends/backend_agg.py:238: RuntimeWarning: Glyph 2309 missing from current font.\n",
      "  font.set_text(s, 0.0, flags=flags)\n",
      "/usr/local/lib/python3.8/dist-packages/matplotlib/backends/backend_agg.py:238: RuntimeWarning: Glyph 2346 missing from current font.\n",
      "  font.set_text(s, 0.0, flags=flags)\n",
      "/usr/local/lib/python3.8/dist-packages/matplotlib/backends/backend_agg.py:238: RuntimeWarning: Glyph 2352 missing from current font.\n",
      "  font.set_text(s, 0.0, flags=flags)\n",
      "/usr/local/lib/python3.8/dist-packages/matplotlib/backends/backend_agg.py:238: RuntimeWarning: Glyph 2376 missing from current font.\n",
      "  font.set_text(s, 0.0, flags=flags)\n",
      "/usr/local/lib/python3.8/dist-packages/matplotlib/backends/backend_agg.py:238: RuntimeWarning: Glyph 2354 missing from current font.\n",
      "  font.set_text(s, 0.0, flags=flags)\n",
      "/usr/local/lib/python3.8/dist-packages/matplotlib/backends/backend_agg.py:201: RuntimeWarning: Glyph 2327 missing from current font.\n",
      "  font.set_text(s, 0, flags=flags)\n",
      "/usr/local/lib/python3.8/dist-packages/matplotlib/backends/backend_agg.py:201: RuntimeWarning: Glyph 2369 missing from current font.\n",
      "  font.set_text(s, 0, flags=flags)\n",
      "/usr/local/lib/python3.8/dist-packages/matplotlib/backends/backend_agg.py:201: RuntimeWarning: Glyph 2360 missing from current font.\n",
      "  font.set_text(s, 0, flags=flags)\n",
      "/usr/local/lib/python3.8/dist-packages/matplotlib/backends/backend_agg.py:201: RuntimeWarning: Glyph 2381 missing from current font.\n",
      "  font.set_text(s, 0, flags=flags)\n",
      "/usr/local/lib/python3.8/dist-packages/matplotlib/backends/backend_agg.py:201: RuntimeWarning: Glyph 2340 missing from current font.\n",
      "  font.set_text(s, 0, flags=flags)\n",
      "/usr/local/lib/python3.8/dist-packages/matplotlib/backends/backend_agg.py:201: RuntimeWarning: Glyph 2366 missing from current font.\n",
      "  font.set_text(s, 0, flags=flags)\n",
      "/usr/local/lib/python3.8/dist-packages/matplotlib/backends/backend_agg.py:201: RuntimeWarning: Glyph 2357 missing from current font.\n",
      "  font.set_text(s, 0, flags=flags)\n",
      "/usr/local/lib/python3.8/dist-packages/matplotlib/backends/backend_agg.py:201: RuntimeWarning: Glyph 2325 missing from current font.\n",
      "  font.set_text(s, 0, flags=flags)\n",
      "/usr/local/lib/python3.8/dist-packages/matplotlib/backends/backend_agg.py:201: RuntimeWarning: Glyph 2332 missing from current font.\n",
      "  font.set_text(s, 0, flags=flags)\n",
      "/usr/local/lib/python3.8/dist-packages/matplotlib/backends/backend_agg.py:201: RuntimeWarning: Glyph 2344 missing from current font.\n",
      "  font.set_text(s, 0, flags=flags)\n",
      "/usr/local/lib/python3.8/dist-packages/matplotlib/backends/backend_agg.py:201: RuntimeWarning: Glyph 2350 missing from current font.\n",
      "  font.set_text(s, 0, flags=flags)\n",
      "/usr/local/lib/python3.8/dist-packages/matplotlib/backends/backend_agg.py:201: RuntimeWarning: Glyph 2348 missing from current font.\n",
      "  font.set_text(s, 0, flags=flags)\n",
      "/usr/local/lib/python3.8/dist-packages/matplotlib/backends/backend_agg.py:201: RuntimeWarning: Glyph 2361 missing from current font.\n",
      "  font.set_text(s, 0, flags=flags)\n",
      "/usr/local/lib/python3.8/dist-packages/matplotlib/backends/backend_agg.py:201: RuntimeWarning: Glyph 2310 missing from current font.\n",
      "  font.set_text(s, 0, flags=flags)\n",
      "/usr/local/lib/python3.8/dist-packages/matplotlib/backends/backend_agg.py:201: RuntimeWarning: Glyph 2341 missing from current font.\n",
      "  font.set_text(s, 0, flags=flags)\n",
      "/usr/local/lib/python3.8/dist-packages/matplotlib/backends/backend_agg.py:201: RuntimeWarning: Glyph 2309 missing from current font.\n",
      "  font.set_text(s, 0, flags=flags)\n",
      "/usr/local/lib/python3.8/dist-packages/matplotlib/backends/backend_agg.py:201: RuntimeWarning: Glyph 2346 missing from current font.\n",
      "  font.set_text(s, 0, flags=flags)\n",
      "/usr/local/lib/python3.8/dist-packages/matplotlib/backends/backend_agg.py:201: RuntimeWarning: Glyph 2352 missing from current font.\n",
      "  font.set_text(s, 0, flags=flags)\n",
      "/usr/local/lib/python3.8/dist-packages/matplotlib/backends/backend_agg.py:201: RuntimeWarning: Glyph 2376 missing from current font.\n",
      "  font.set_text(s, 0, flags=flags)\n",
      "/usr/local/lib/python3.8/dist-packages/matplotlib/backends/backend_agg.py:201: RuntimeWarning: Glyph 2354 missing from current font.\n",
      "  font.set_text(s, 0, flags=flags)\n"
     ]
    },
    {
     "data": {
      "image/png": "[encoded data removed]",
      "text/plain": [
       "<Figure size 864x648 with 2 Axes>"
      ]
     },
     "metadata": {
      "needs_background": "light"
     },
     "output_type": "display_data"
    }
   ],
   "source": [
    "if test == True:\n",
    "    encoder.eval()\n",
    "    decoder.eval()\n",
    "    #\n",
    "    #i = random.randint(0,len(qu_inputs_test_hi)-1)\n",
    "    #Doing for all hindi sentences\n",
    "    for i in range(len(qu_inputs_test_hi)):\n",
    "        h = encoder.init_hidden()\n",
    "        inp = torch.tensor(qu_inputs_test_hi[i]).unsqueeze(0).to(device)\n",
    "        encoder_outputs, h = encoder(inp,h)\n",
    "\n",
    "        decoder_input = torch.tensor([hi_w2i['_SOS']],device=device)\n",
    "        decoder_hidden = h\n",
    "        output = []\n",
    "        attentions = []\n",
    "        while True:\n",
    "            decoder_output, decoder_hidden, attn_weights = decoder(decoder_input, decoder_hidden, encoder_outputs)\n",
    "            _, top_index = decoder_output.topk(1)\n",
    "            decoder_input = torch.tensor([top_index.item()],device=device)\n",
    "            #If the decoder output is the End Of Sentence token, stop decoding process\n",
    "            if top_index.item() == hi_w2i[\"_EOS\"]:\n",
    "                break\n",
    "            output.append(top_index.item())\n",
    "            attentions.append(attn_weights.squeeze().cpu().detach().numpy())\n",
    "        in_string = \" \".join([hi_i2w[x] for x in qu_inputs_test_hi[i]])\n",
    "        out_string = \" \".join([hi_i2w[x] for x in output])\n",
    "        print(\"Hindi: \"+ in_string)\n",
    "        print(\"Answer Predicted: \" + out_string)\n",
    "        sub['PredictionString'].loc[sub['id'] == pred_id_hi['id'][i]] = out_string\n",
    "    #Plotting the heatmap for the Attention weights\n",
    "    fig = plt.figure(figsize=(12,9))\n",
    "    ax = fig.add_subplot(111)\n",
    "    cax = ax.matshow(np.array(attentions))\n",
    "    fig.colorbar(cax)\n",
    "    ax.set_xticklabels(['']+[hi_i2w[x] for x in qu_inputs_test_hi[i]])\n",
    "    ax.set_yticklabels(['']+[hi_i2w[x] for x in output])\n",
    "    ax.xaxis.set_major_locator(ticker.MultipleLocator(1))\n",
    "    ax.yaxis.set_major_locator(ticker.MultipleLocator(1))\n",
    "    plt.show()"
   ]
  },
  {
   "cell_type": "code",
   "execution_count": 5,
   "id": "8ac63a53-e43c-4fd9-8975-5b25988c70a0",
   "metadata": {
    "collapsed": true,
    "jupyter": {
     "outputs_hidden": true
    },
    "tags": []
   },
   "outputs": [
    {
     "name": "stderr",
     "output_type": "stream",
     "text": [
      "<ipython-input-5-b3cb5e4635e4>:14: TqdmDeprecationWarning: This function will be removed in tqdm==5.0.0\n",
      "Please use `tqdm.notebook.tqdm` instead of `tqdm.tqdm_notebook`\n",
      "  tk0 = tqdm_notebook(range(1,EPOCHS+1),total=EPOCHS)\n"
     ]
    },
    {
     "data": {
      "application/vnd.jupyter.widget-view+json": {
       "model_id": "f4cc6e42b96b4709906d0482cb542eff",
       "version_major": 2,
       "version_minor": 0
      },
      "text/plain": [
       "  0%|          | 0/10 [00:00<?, ?it/s]"
      ]
     },
     "metadata": {},
     "output_type": "display_data"
    },
    {
     "name": "stderr",
     "output_type": "stream",
     "text": [
      "<ipython-input-5-b3cb5e4635e4>:17: TqdmDeprecationWarning: This function will be removed in tqdm==5.0.0\n",
      "Please use `tqdm.notebook.tqdm` instead of `tqdm.tqdm_notebook`\n",
      "  tk1 = tqdm_notebook(enumerate(qu_inputs_ta[0:len(qu_inputs_ta)-2]),total=len(qu_inputs_ta)-2,leave=False)\n"
     ]
    },
    {
     "data": {
      "application/vnd.jupyter.widget-view+json": {
       "model_id": "",
       "version_major": 2,
       "version_minor": 0
      },
      "text/plain": [
       "  0%|          | 0/366 [00:00<?, ?it/s]"
      ]
     },
     "metadata": {},
     "output_type": "display_data"
    },
    {
     "data": {
      "application/vnd.jupyter.widget-view+json": {
       "model_id": "",
       "version_major": 2,
       "version_minor": 0
      },
      "text/plain": [
       "  0%|          | 0/366 [00:00<?, ?it/s]"
      ]
     },
     "metadata": {},
     "output_type": "display_data"
    },
    {
     "data": {
      "application/vnd.jupyter.widget-view+json": {
       "model_id": "",
       "version_major": 2,
       "version_minor": 0
      },
      "text/plain": [
       "  0%|          | 0/366 [00:00<?, ?it/s]"
      ]
     },
     "metadata": {},
     "output_type": "display_data"
    },
    {
     "data": {
      "application/vnd.jupyter.widget-view+json": {
       "model_id": "",
       "version_major": 2,
       "version_minor": 0
      },
      "text/plain": [
       "  0%|          | 0/366 [00:00<?, ?it/s]"
      ]
     },
     "metadata": {},
     "output_type": "display_data"
    },
    {
     "data": {
      "application/vnd.jupyter.widget-view+json": {
       "model_id": "",
       "version_major": 2,
       "version_minor": 0
      },
      "text/plain": [
       "  0%|          | 0/366 [00:00<?, ?it/s]"
      ]
     },
     "metadata": {},
     "output_type": "display_data"
    },
    {
     "data": {
      "application/vnd.jupyter.widget-view+json": {
       "model_id": "",
       "version_major": 2,
       "version_minor": 0
      },
      "text/plain": [
       "  0%|          | 0/366 [00:00<?, ?it/s]"
      ]
     },
     "metadata": {},
     "output_type": "display_data"
    },
    {
     "data": {
      "application/vnd.jupyter.widget-view+json": {
       "model_id": "",
       "version_major": 2,
       "version_minor": 0
      },
      "text/plain": [
       "  0%|          | 0/366 [00:00<?, ?it/s]"
      ]
     },
     "metadata": {},
     "output_type": "display_data"
    },
    {
     "data": {
      "application/vnd.jupyter.widget-view+json": {
       "model_id": "",
       "version_major": 2,
       "version_minor": 0
      },
      "text/plain": [
       "  0%|          | 0/366 [00:00<?, ?it/s]"
      ]
     },
     "metadata": {},
     "output_type": "display_data"
    },
    {
     "data": {
      "application/vnd.jupyter.widget-view+json": {
       "model_id": "",
       "version_major": 2,
       "version_minor": 0
      },
      "text/plain": [
       "  0%|          | 0/366 [00:00<?, ?it/s]"
      ]
     },
     "metadata": {},
     "output_type": "display_data"
    },
    {
     "data": {
      "application/vnd.jupyter.widget-view+json": {
       "model_id": "",
       "version_major": 2,
       "version_minor": 0
      },
      "text/plain": [
       "  0%|          | 0/366 [00:00<?, ?it/s]"
      ]
     },
     "metadata": {},
     "output_type": "display_data"
    }
   ],
   "source": [
    "#Writing for tamil training model  and testing\n",
    "hidden_size = 256\n",
    "encoder = EncoderLSTM(len(words_ta), hidden_size).to(device)\n",
    "#attn = Attention(hidden_size,\"concat\")\n",
    "#decoder = LuongDecoder(hidden_size,len(words_hi),attn).to(device)\n",
    "decoder = BahdanauDecoder(hidden_size,len(words_ta)).to(device)\n",
    "lr = 0.001\n",
    "encoder_optimizer = optim.Adam(encoder.parameters(), lr=lr)\n",
    "decoder_optimizer = optim.Adam(decoder.parameters(), lr=lr)\n",
    "EPOCHS = 10\n",
    "teacher_forcing_prob = 0.5\n",
    "encoder.train()\n",
    "decoder.train()\n",
    "tk0 = tqdm_notebook(range(1,EPOCHS+1),total=EPOCHS)\n",
    "for epoch in tk0:\n",
    "    avg_loss = 0.\n",
    "    tk1 = tqdm_notebook(enumerate(qu_inputs_ta[0:len(qu_inputs_ta)-2]),total=len(qu_inputs_ta)-2,leave=False)\n",
    "    for i, sentence in tk1:\n",
    "        loss = 0.\n",
    "        h = encoder.init_hidden()\n",
    "        encoder_optimizer.zero_grad()\n",
    "        decoder_optimizer.zero_grad()\n",
    "        #print(sentence)\n",
    "        inp = torch.tensor(sentence).unsqueeze(0).to(device)\n",
    "        encoder_outputs, h = encoder(inp,h)\n",
    "        #print(encoder_outputs)\n",
    "        #First decoder input will be the SOS token\n",
    "        decoder_input = torch.tensor([ta_w2i['_SOS']],device=device)\n",
    "        #First decoder hidden state will be last encoder hidden state\n",
    "        decoder_hidden = h\n",
    "        output = []\n",
    "        teacher_forcing = True if random.random() < teacher_forcing_prob else False\n",
    "        \n",
    "        for ii in range(len(an_inputs_ta[i])):\n",
    "            decoder_output, decoder_hidden, attn_weights = decoder(decoder_input, decoder_hidden, encoder_outputs)\n",
    "            #Get the index value of the word with the highest score from the decoder output\n",
    "            #print(decoder_output)\n",
    "            top_value, top_index = decoder_output.topk(1)\n",
    "            if teacher_forcing:\n",
    "                decoder_input = torch.tensor([an_inputs_ta[i][ii]],device=device)\n",
    "            else:\n",
    "                decoder_input = torch.tensor([top_index.item()],device=device)\n",
    "            output.append(top_index.item())\n",
    "            #Calculate the loss of ?the prediction against the actual word\n",
    "            loss += F.nll_loss(decoder_output.view(1,-1), torch.tensor([an_inputs_ta[i][ii]],device=device))\n",
    "            #print(loss)\n",
    "            #import sys; sys.exit()\n",
    "        loss = loss/len(an_inputs_ta[i])\n",
    "        loss.backward()\n",
    "        encoder_optimizer.step()\n",
    "        decoder_optimizer.step()\n",
    "        avg_loss += loss.item()/len(qu_inputs_ta)\n",
    "    tk0.set_postfix(loss=avg_loss)\n",
    "    #Save model after every epoch (Optional)\n",
    "    torch.save({\"encoder\":encoder.state_dict(),\"decoder\":decoder.state_dict(),\"e_optimizer\":encoder_optimizer.state_dict(),\"d_optimizer\":decoder_optimizer},\"./model_ta.pt\")"
   ]
  },
  {
   "cell_type": "code",
   "execution_count": 76,
   "id": "a52b1382-0f49-43f0-9886-d8fdfee1346e",
   "metadata": {
    "collapsed": true,
    "jupyter": {
     "outputs_hidden": true
    },
    "tags": []
   },
   "outputs": [
    {
     "name": "stdout",
     "output_type": "stream",
     "text": [
      "Tamil: _UNK அணு எண் என்ன ? _UNK\n",
      "Answer Predicted: மண்டேலா உலகில் ரகுமான் சார்லஸ்\n",
      "Tamil: இந்தியாவில் _UNK _UNK தந்தை என்று கருதப்படுபவர் யார் ? _UNK\n",
      "Answer Predicted: மண்டேலா உலகில் ரகுமான்\n"
     ]
    },
    {
     "name": "stderr",
     "output_type": "stream",
     "text": [
      "<ipython-input-76-ef5a0434807f>:35: UserWarning: FixedFormatter should only be used together with FixedLocator\n",
      "  ax.set_xticklabels(['']+[ta_i2w[x] for x in qu_inputs_test_ta[i]])\n",
      "<ipython-input-76-ef5a0434807f>:36: UserWarning: FixedFormatter should only be used together with FixedLocator\n",
      "  ax.set_yticklabels(['']+[ta_i2w[x] for x in output])\n"
     ]
    },
    {
     "ename": "NameError",
     "evalue": "name 'ticker' is not defined",
     "output_type": "error",
     "traceback": [
      "\u001b[0;31m---------------------------------------------------------------------------\u001b[0m",
      "\u001b[0;31mNameError\u001b[0m                                 Traceback (most recent call last)",
      "\u001b[0;32m<ipython-input-76-ef5a0434807f>\u001b[0m in \u001b[0;36m<module>\u001b[0;34m\u001b[0m\n\u001b[1;32m     35\u001b[0m     \u001b[0max\u001b[0m\u001b[0;34m.\u001b[0m\u001b[0mset_xticklabels\u001b[0m\u001b[0;34m(\u001b[0m\u001b[0;34m[\u001b[0m\u001b[0;34m''\u001b[0m\u001b[0;34m]\u001b[0m\u001b[0;34m+\u001b[0m\u001b[0;34m[\u001b[0m\u001b[0mta_i2w\u001b[0m\u001b[0;34m[\u001b[0m\u001b[0mx\u001b[0m\u001b[0;34m]\u001b[0m \u001b[0;32mfor\u001b[0m \u001b[0mx\u001b[0m \u001b[0;32min\u001b[0m \u001b[0mqu_inputs_test_ta\u001b[0m\u001b[0;34m[\u001b[0m\u001b[0mi\u001b[0m\u001b[0;34m]\u001b[0m\u001b[0;34m]\u001b[0m\u001b[0;34m)\u001b[0m\u001b[0;34m\u001b[0m\u001b[0;34m\u001b[0m\u001b[0m\n\u001b[1;32m     36\u001b[0m     \u001b[0max\u001b[0m\u001b[0;34m.\u001b[0m\u001b[0mset_yticklabels\u001b[0m\u001b[0;34m(\u001b[0m\u001b[0;34m[\u001b[0m\u001b[0;34m''\u001b[0m\u001b[0;34m]\u001b[0m\u001b[0;34m+\u001b[0m\u001b[0;34m[\u001b[0m\u001b[0mta_i2w\u001b[0m\u001b[0;34m[\u001b[0m\u001b[0mx\u001b[0m\u001b[0;34m]\u001b[0m \u001b[0;32mfor\u001b[0m \u001b[0mx\u001b[0m \u001b[0;32min\u001b[0m \u001b[0moutput\u001b[0m\u001b[0;34m]\u001b[0m\u001b[0;34m)\u001b[0m\u001b[0;34m\u001b[0m\u001b[0;34m\u001b[0m\u001b[0m\n\u001b[0;32m---> 37\u001b[0;31m     \u001b[0max\u001b[0m\u001b[0;34m.\u001b[0m\u001b[0mxaxis\u001b[0m\u001b[0;34m.\u001b[0m\u001b[0mset_major_locator\u001b[0m\u001b[0;34m(\u001b[0m\u001b[0mticker\u001b[0m\u001b[0;34m.\u001b[0m\u001b[0mMultipleLocator\u001b[0m\u001b[0;34m(\u001b[0m\u001b[0;36m1\u001b[0m\u001b[0;34m)\u001b[0m\u001b[0;34m)\u001b[0m\u001b[0;34m\u001b[0m\u001b[0;34m\u001b[0m\u001b[0m\n\u001b[0m\u001b[1;32m     38\u001b[0m     \u001b[0max\u001b[0m\u001b[0;34m.\u001b[0m\u001b[0myaxis\u001b[0m\u001b[0;34m.\u001b[0m\u001b[0mset_major_locator\u001b[0m\u001b[0;34m(\u001b[0m\u001b[0mticker\u001b[0m\u001b[0;34m.\u001b[0m\u001b[0mMultipleLocator\u001b[0m\u001b[0;34m(\u001b[0m\u001b[0;36m1\u001b[0m\u001b[0;34m)\u001b[0m\u001b[0;34m)\u001b[0m\u001b[0;34m\u001b[0m\u001b[0;34m\u001b[0m\u001b[0m\n\u001b[1;32m     39\u001b[0m     \u001b[0mplt\u001b[0m\u001b[0;34m.\u001b[0m\u001b[0mshow\u001b[0m\u001b[0;34m(\u001b[0m\u001b[0;34m)\u001b[0m\u001b[0;34m\u001b[0m\u001b[0;34m\u001b[0m\u001b[0m\n",
      "\u001b[0;31mNameError\u001b[0m: name 'ticker' is not defined"
     ]
    },
    {
     "data": {
      "image/png": "[encoded data removed]",
      "text/plain": [
       "<Figure size 864x648 with 2 Axes>"
      ]
     },
     "metadata": {
      "needs_background": "light"
     },
     "output_type": "display_data"
    }
   ],
   "source": [
    "if test == True:   \n",
    "    encoder.eval()\n",
    "    decoder.eval()\n",
    "    #Choose a random sentences\n",
    "    #i = random.randint(0,len(qu_inputs_test_ta)-1)\n",
    "    #Doing decoding for all tamil sentences\n",
    "    for i in range(len(qu_inputs_test_ta)):\n",
    "        h = encoder.init_hidden()\n",
    "        inp = torch.tensor(qu_inputs_test_ta[i]).unsqueeze(0).to(device)\n",
    "        encoder_outputs, h = encoder(inp,h)\n",
    "\n",
    "        decoder_input = torch.tensor([ta_w2i['_SOS']],device=device)\n",
    "        decoder_hidden = h\n",
    "        output = []\n",
    "        attentions = []\n",
    "        while True:\n",
    "            decoder_output, decoder_hidden, attn_weights = decoder(decoder_input, decoder_hidden, encoder_outputs)\n",
    "            _, top_index = decoder_output.topk(1)\n",
    "            decoder_input = torch.tensor([top_index.item()],device=device)\n",
    "            #If the decoder output is the End Of Sentence token, stop decoding process\n",
    "            if top_index.item() == ta_w2i[\"_EOS\"]:\n",
    "                break\n",
    "            output.append(top_index.item())\n",
    "            attentions.append(attn_weights.squeeze().cpu().detach().numpy())\n",
    "        in_string = \" \".join([ta_i2w[x] for x in qu_inputs_test_ta[i]])\n",
    "        out_string = \" \".join([ta_i2w[x] for x in output])\n",
    "        print(\"Tamil: \"+ in_string)\n",
    "        print(\"Answer Predicted: \" + out_string)\n",
    "        sub['PredictionString'].loc[sub['id'] == pred_id_ta['id'][i]] = out_string\n",
    "    #Plotting the heatmap for the Attention weights\n",
    "    fig = plt.figure(figsize=(12,9))\n",
    "    ax = fig.add_subplot(111)\n",
    "    cax = ax.matshow(np.array(attentions))\n",
    "    fig.colorbar(cax)\n",
    "    ax.set_xticklabels(['']+[ta_i2w[x] for x in qu_inputs_test_ta[i]])\n",
    "    ax.set_yticklabels(['']+[ta_i2w[x] for x in output])\n",
    "    ax.xaxis.set_major_locator(ticker.MultipleLocator(1))\n",
    "    ax.yaxis.set_major_locator(ticker.MultipleLocator(1))\n",
    "    plt.show()"
   ]
  },
  {
   "cell_type": "code",
   "execution_count": 80,
   "id": "1cc6a3b5",
   "metadata": {
    "tags": []
   },
   "outputs": [],
   "source": [
    "#Saving to sample submission csv file\n",
    "sub.to_csv('sample_submission.csv')"
   ]
  }
 ],
 "metadata": {
  "kernelspec": {
   "display_name": "Python 3",
   "language": "python",
   "name": "python3"
  },
  "language_info": {
   "codemirror_mode": {
    "name": "ipython",
    "version": 3
   },
   "file_extension": ".py",
   "mimetype": "text/x-python",
   "name": "python",
   "nbconvert_exporter": "python",
   "pygments_lexer": "ipython3",
   "version": "3.8.10"
  }
 },
 "nbformat": 4,
 "nbformat_minor": 5
}
